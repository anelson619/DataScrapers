{
 "cells": [
  {
   "cell_type": "code",
   "execution_count": 2,
   "metadata": {},
   "outputs": [],
   "source": [
    "import math\n",
    "import numpy as np\n",
    "import urllib\n",
    "import json\n",
    "from time import sleep\n",
    "%matplotlib inline\n",
    "import matplotlib.pylab as plt\n",
    "from h3 import h3\n",
    "import folium\n",
    "import haversine\n",
    "import os\n",
    "import glob\n",
    "import re\n",
    "from collections import defaultdict\n",
    "import re"
   ]
  },
  {
   "cell_type": "markdown",
   "metadata": {
    "collapsed": true
   },
   "source": [
    "Json folder to one csv file"
   ]
  },
  {
   "cell_type": "code",
   "execution_count": 3,
   "metadata": {},
   "outputs": [
    {
     "name": "stdout",
     "output_type": "stream",
     "text": [
      "there are 53071 places in the crawled area, below are their names\n",
      "----------\n"
     ]
    }
   ],
   "source": [
    "cnt=0;\n",
    "types=defaultdict(int)\n",
    "places={};\n",
    "for file in glob.glob(\"data/*.json\"):\n",
    "    with open(file) as f:\n",
    "        data=json.load(f)\n",
    "        if \"has children\" not in data.keys():\n",
    "            for k in data:\n",
    "                places[data[k]['place_id']]='{},{},{},{},{}\\n'.format(data[k]['name'].replace(\",\",\"\")\n",
    "                                                      ,data[k]['geometry']['location']['lat']\n",
    "                                                      ,data[k]['geometry']['location']['lng']\n",
    "                                                      ,\";\".join(data[k]['types'])\n",
    "                                                      ,data[k]['place_id'])\n",
    "                for t in data[k]['types']:\n",
    "                    types[t]+=1\n",
    "\n",
    "\n",
    "with open(\"tabular/BostonPOI.csv\",'w') as outfile:\n",
    "    outfile.write(\"name,lat,lng,types,place_id\\n\")\n",
    "    for i in places:\n",
    "        outfile.write(places[i])\n",
    "    outfile.close();\n",
    "\n",
    "print('there are {} places in the crawled area, below are their names'.format(len(places)));\n",
    "print('----------')"
   ]
  },
  {
   "cell_type": "code",
   "execution_count": 10,
   "metadata": {},
   "outputs": [
    {
     "name": "stdout",
     "output_type": "stream",
     "text": [
      "'\n"
     ]
    }
   ],
   "source": [
    "typesFreq=defaultdict(int)\n",
    "print(places['ChIJvVFm8Il644kR79t8GQmV2qU'].split(';')[3])"
   ]
  },
  {
   "cell_type": "code",
   "execution_count": 25,
   "metadata": {},
   "outputs": [
    {
     "data": {
      "text/plain": [
       "defaultdict(int,\n",
       "            {'route': 2913,\n",
       "             'locality': 6734,\n",
       "             'political': 10079,\n",
       "             'neighborhood': 3442,\n",
       "             'point_of_interest': 56068,\n",
       "             'establishment': 56068,\n",
       "             'lawyer': 2636,\n",
       "             'beauty_salon': 782,\n",
       "             'hair_care': 704,\n",
       "             'general_contractor': 1401,\n",
       "             'health': 16279,\n",
       "             'real_estate_agency': 1610,\n",
       "             'spa': 227,\n",
       "             'accounting': 319,\n",
       "             'finance': 2876,\n",
       "             'store': 4954,\n",
       "             'courthouse': 46,\n",
       "             'car_repair': 432,\n",
       "             'restaurant': 1994,\n",
       "             'food': 3403,\n",
       "             'bank': 278,\n",
       "             'travel_agency': 247,\n",
       "             'dentist': 1215,\n",
       "             'atm': 779,\n",
       "             'insurance_agency': 713,\n",
       "             'post_office': 36,\n",
       "             'local_government_office': 515,\n",
       "             'convenience_store': 275,\n",
       "             'home_goods_store': 987,\n",
       "             'bus_station': 1586,\n",
       "             'transit_station': 1882,\n",
       "             'pharmacy': 137,\n",
       "             'gym': 296,\n",
       "             'school': 924,\n",
       "             'doctor': 11261,\n",
       "             'university': 433,\n",
       "             'premise': 976,\n",
       "             'parking': 793,\n",
       "             'park': 1193,\n",
       "             'bar': 493,\n",
       "             'cafe': 510,\n",
       "             'lodging': 304,\n",
       "             'grocery_or_supermarket': 352,\n",
       "             'florist': 89,\n",
       "             'storage': 133,\n",
       "             'moving_company': 175,\n",
       "             'furniture_store': 201,\n",
       "             'electronics_store': 449,\n",
       "             'laundry': 245,\n",
       "             'art_gallery': 206,\n",
       "             'library': 105,\n",
       "             'department_store': 28,\n",
       "             'clothing_store': 685,\n",
       "             'church': 496,\n",
       "             'place_of_worship': 572,\n",
       "             'shoe_store': 152,\n",
       "             'light_rail_station': 58,\n",
       "             'jewelry_store': 210,\n",
       "             'plumber': 87,\n",
       "             'liquor_store': 155,\n",
       "             'bakery': 244,\n",
       "             'meal_takeaway': 192,\n",
       "             'car_dealer': 89,\n",
       "             'museum': 96,\n",
       "             'amusement_park': 2,\n",
       "             'supermarket': 62,\n",
       "             'hardware_store': 47,\n",
       "             'hospital': 415,\n",
       "             'car_rental': 206,\n",
       "             'physiotherapist': 321,\n",
       "             'roofing_contractor': 60,\n",
       "             'train_station': 12,\n",
       "             'meal_delivery': 91,\n",
       "             'shopping_mall': 62,\n",
       "             'book_store': 58,\n",
       "             'gas_station': 93,\n",
       "             'fire_station': 43,\n",
       "             'mosque': 11,\n",
       "             'veterinary_care': 36,\n",
       "             'night_club': 102,\n",
       "             'synagogue': 31,\n",
       "             'painter': 83,\n",
       "             'electrician': 78,\n",
       "             'pet_store': 13,\n",
       "             'stadium': 17,\n",
       "             'car_wash': 27,\n",
       "             'cemetery': 59,\n",
       "             'embassy': 31,\n",
       "             'police': 42,\n",
       "             'subway_station': 26,\n",
       "             'bicycle_store': 17,\n",
       "             'movie_rental': 27,\n",
       "             'locksmith': 20,\n",
       "             'funeral_home': 41,\n",
       "             'campground': 3,\n",
       "             'rv_park': 1,\n",
       "             'bowling_alley': 6,\n",
       "             'movie_theater': 9,\n",
       "             'city_hall': 3,\n",
       "             'airport': 6,\n",
       "             'hindu_temple': 3,\n",
       "             'natural_feature': 8,\n",
       "             'aquarium': 1,\n",
       "             'zoo': 1})"
      ]
     },
     "execution_count": 25,
     "metadata": {},
     "output_type": "execute_result"
    }
   ],
   "source": [
    "types"
   ]
  },
  {
   "cell_type": "code",
   "execution_count": 31,
   "metadata": {},
   "outputs": [
    {
     "data": {
      "text/plain": [
       "'1;2;3'"
      ]
     },
     "execution_count": 31,
     "metadata": {},
     "output_type": "execute_result"
    }
   ],
   "source": [
    "\";\".join([str(t) for t in [1,2,3]])"
   ]
  }
 ],
 "metadata": {
  "kernelspec": {
   "display_name": "Python 3",
   "language": "python",
   "name": "python3"
  },
  "language_info": {
   "codemirror_mode": {
    "name": "ipython",
    "version": 3
   },
   "file_extension": ".py",
   "mimetype": "text/x-python",
   "name": "python",
   "nbconvert_exporter": "python",
   "pygments_lexer": "ipython3",
   "version": "3.7.1"
  }
 },
 "nbformat": 4,
 "nbformat_minor": 1
}
